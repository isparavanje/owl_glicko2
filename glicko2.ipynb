{
 "cells": [
  {
   "cell_type": "code",
   "execution_count": 1,
   "metadata": {
    "collapsed": true
   },
   "outputs": [],
   "source": [
    "import numpy as np\n",
    "\n",
    "def g(player):\n",
    "    phi = player.phi\n",
    "    return 1/(np.sqrt(1+3*(phi/(np.pi))**2))\n",
    "\n",
    "def E(player1,player2):\n",
    "    mu = player1.mu\n",
    "    mu2 = player2.mu\n",
    "    return 1/(1+np.exp(g(player2)*(mu2-mu)))\n",
    "\n",
    "def g_p(player1,player2):\n",
    "    phi = np.sqrt(player1.phi**2+player2.phi**2)\n",
    "    return 1/(np.sqrt(1+3*(phi/(np.pi))**2))\n",
    "\n",
    "\n",
    "def E_p(player1,player2):\n",
    "    mu = player1.mu\n",
    "    mu2 = player2.mu\n",
    "    return 1/(1+np.exp(g_p(player1,player2)*(mu2-mu)))\n",
    "\n",
    "class Player:\n",
    "    tau = 1/np.sqrt(2) #this is a constant that can be fine-tuned.\n",
    "    def __init__(self, name, mu=0, phi=2, rho=0.06):\n",
    "        self.name = name\n",
    "        self.mu = mu\n",
    "        self.phi = phi\n",
    "        self.rho = rho\n",
    "    def __eq__(self, other):\n",
    "        if isinstance(other, self.__class__):\n",
    "            return self.name == other.name\n",
    "        else:\n",
    "            return False\n",
    "\n",
    "    def estimate_variance(self, games):\n",
    "        v_sum = 0\n",
    "        for game in games:\n",
    "            if self == game.player1:\n",
    "                E_iter = E(self,game.player2)\n",
    "                v_sum = v_sum + (g(game.player2))**2*(E_iter-E_iter**2)\n",
    "            if self == game.player2:\n",
    "                E_iter = E(self,game.player1)\n",
    "                v_sum = v_sum + (g(game.player1))**2*(E_iter-E_iter**2)\n",
    "        if v_sum!=0:\n",
    "            self.est_variance = 1/v_sum\n",
    "        else:\n",
    "            self.est_variance = -1\n",
    "\n",
    "    def estimate_Delta(self, games):\n",
    "        d_sum = 0\n",
    "        for game in games:\n",
    "            if self == game.player1:\n",
    "                d_sum = d_sum + g(game.player2)*(game.score-E(self,game.player2))\n",
    "            if self == game.player2:\n",
    "                d_sum = d_sum + g(game.player1)*(1-game.score-E(self,game.player1))\n",
    "        self.est_Delta = self.est_variance*d_sum\n",
    "    \n",
    "    def _f(self,x):\n",
    "        ex = np.exp(x)\n",
    "        a = np.log(self.phi**2)\n",
    "        return (ex*(self.est_Delta**2-self.phi**2-self.est_variance-ex)/(2*(self.phi**2+self.est_variance+ex)**2)\n",
    "                - (x - a)/self.tau**2)\n",
    "    \n",
    "    def compute_volatility(self):\n",
    "        #basically the Illinois algorithm lifted from the glicko2 pdf. Illini!\n",
    "        if self.est_variance!=-1:\n",
    "            a = np.log(self.phi**2)\n",
    "            A = a\n",
    "            if self.est_Delta**2>(self.phi**2+self.est_variance):\n",
    "                B = np.log(self.est_Delta**2-self.phi**2-self.est_variance)\n",
    "            else:\n",
    "                k = 1\n",
    "                while(self._f(a-k*self.tau)<0):\n",
    "                    k = k+1\n",
    "                B = a-k*self.tau\n",
    "            fA = self._f(A)\n",
    "            fB = self._f(B)\n",
    "            while(abs(B-A)>1e-6):\n",
    "                C = A + (A-B)*fA/(fB-fA)\n",
    "                fC = self._f(C)\n",
    "                if fC*fB<0:\n",
    "                    A = B\n",
    "                    fA = fB\n",
    "                else:\n",
    "                    fA = fA/2    \n",
    "                B = C\n",
    "                fB = fC\n",
    "            self.rho = np.exp(A/2)\n",
    "            phi_d = np.sqrt(self.phi**2+self.rho**2)\n",
    "            self.phi = 1/np.sqrt(1/phi_d**2+1/self.est_variance)\n",
    "            self.mu = self.mu + self.phi**2/self.est_variance*self.est_Delta\n",
    "\n",
    "class Game:\n",
    "    def __init__(self, player1, player2, score):\n",
    "        '''score=1 means player1 wins, score=0 means player2 wins, score=0.5 means draw'''\n",
    "        self.player1 = player1\n",
    "        self.player2 = player2\n",
    "        self.score = score\n",
    "\n",
    "        "
   ]
  },
  {
   "cell_type": "code",
   "execution_count": 2,
   "metadata": {
    "collapsed": true
   },
   "outputs": [],
   "source": [
    "BOS = Player('BOS')\n",
    "FLA = Player('FLA')\n",
    "HOU = Player('HOU')\n",
    "LDN = Player('LDN')\n",
    "NYE = Player('NYE')\n",
    "PHI = Player('PHI')\n",
    "DAL = Player('DAL')\n",
    "GLA = Player('GLA')\n",
    "VAL = Player('VAL')\n",
    "SFS = Player('SFS')\n",
    "SEO = Player('SEO')\n",
    "SHD = Player('SHD')\n",
    "players = [BOS, FLA, HOU, LDN, NYE, PHI, DAL, GLA, VAL, SFS, SEO, SHD]"
   ]
  },
  {
   "cell_type": "code",
   "execution_count": 3,
   "metadata": {},
   "outputs": [
    {
     "name": "stdout",
     "output_type": "stream",
     "text": [
      "BOS: -0.293±1.868\n",
      "FLA: -1.301±1.968\n",
      "HOU: -0.586±1.868\n",
      "LDN: 0.879±1.868\n",
      "NYE: -0.009±1.715\n",
      "PHI: 0.000±4.000\n",
      "DAL: -0.093±1.570\n",
      "GLA: 0.418±1.670\n",
      "VAL: 1.063±1.638\n",
      "SFS: -0.261±1.346\n",
      "SEO: 1.043±1.368\n",
      "SHD: -0.977±1.491\n"
     ]
    }
   ],
   "source": [
    "games = [\n",
    "    Game(FLA,SFS,0), Game(FLA,SFS,0), Game(FLA,SFS,0), Game(FLA,SFS,1), \n",
    "    Game(VAL,SFS,1), Game(VAL,SFS,1), Game(VAL,SFS,1), Game(VAL,SFS,0), Game(VAL,SFS,0), \n",
    "    Game(SEO,SHD,1), Game(SEO,SHD,1), Game(SEO,SHD,1), Game(SEO,SHD,1), \n",
    "    Game(GLA,LDN,1), Game(GLA,LDN,1), Game(GLA,LDN,1), Game(GLA,LDN,0), Game(GLA,LDN,0), \n",
    "    Game(DAL,HOU,1), Game(DAL,HOU,1), Game(DAL,HOU,1), Game(DAL,HOU,0), Game(DAL,HOU,0), \n",
    "    Game(NYE,BOS,1), Game(NYE,BOS,1), Game(NYE,BOS,1), Game(NYE,BOS,0), \n",
    "    Game(SFS,LDN,0), Game(SFS,LDN,0), Game(SFS,LDN,0), Game(SFS,LDN,0), \n",
    "    Game(SEO,HOU,1), Game(SEO,HOU,1), Game(SEO,HOU,0.5), Game(SEO,HOU,0), \n",
    "    Game(SHD,BOS,1), Game(SHD,BOS,1), Game(SHD,BOS,0), Game(SHD,BOS,0), Game(SHD,BOS,0), \n",
    "    Game(VAL,GLA,1), Game(VAL,GLA,1), Game(VAL,GLA,1), Game(VAL,GLA,0), \n",
    "    Game(FLA,DAL,1), Game(FLA,DAL,0), Game(FLA,DAL,0), Game(FLA,DAL,0), \n",
    "    Game(SEO,NYE,1), Game(SEO,NYE,1), Game(SEO,NYE,1), Game(SEO,NYE,0), \n",
    "]\n",
    "for player in players:\n",
    "    player.estimate_variance(games)\n",
    "    player.estimate_Delta(games)\n",
    "    player.compute_volatility()\n",
    "\n",
    "for player in players:\n",
    "    print('{0}: {1:.3f}±{2:.3f}'.format(player.name,player.mu,2*player.phi))"
   ]
  },
  {
   "cell_type": "code",
   "execution_count": 4,
   "metadata": {},
   "outputs": [
    {
     "name": "stdout",
     "output_type": "stream",
     "text": [
      "BOS: -0.120±1.400\n",
      "FLA: -1.620±1.615\n",
      "HOU: -0.824±1.450\n",
      "LDN: 1.177±1.765\n",
      "NYE: 0.462±1.313\n",
      "PHI: -0.778±1.541\n",
      "DAL: -0.113±1.365\n",
      "GLA: 0.164±1.371\n",
      "VAL: 1.708±1.405\n",
      "SFS: -0.338±1.314\n",
      "SEO: 1.317±1.264\n",
      "SHD: -1.541±1.293\n"
     ]
    }
   ],
   "source": [
    "games = [\n",
    "    Game(SFS,VAL,0), Game(SFS,VAL,0), Game(SFS,VAL,0), Game(SFS,VAL,0), \n",
    "    Game(SHD,GLA,0), Game(SHD,GLA,0), Game(SHD,GLA,0), Game(SHD,GLA,0), \n",
    "    Game(DAL,SEO,1), Game(DAL,SEO,0), Game(DAL,SEO,0), Game(DAL,SEO,0.5), \n",
    "    Game(LDN,FLA,0), Game(LDN,FLA,1), Game(LDN,FLA,1), Game(LDN,FLA,1), \n",
    "    Game(PHI,HOU,1), Game(PHI,HOU,0), Game(PHI,HOU,1), Game(PHI,HOU,0), Game(PHI,HOU,1), \n",
    "    Game(BOS,NYE,0), Game(BOS,NYE,1), Game(BOS,NYE,0), Game(BOS,NYE,0), \n",
    "    Game(VAL,DAL,1), Game(VAL,DAL,1), Game(VAL,DAL,1), Game(VAL,DAL,0.5), \n",
    "    Game(FLA,BOS,0), Game(FLA,BOS,0), Game(FLA,BOS,0), Game(FLA,BOS,0), \n",
    "    Game(SFS,SHD,1), Game(SFS,SHD,1), Game(SFS,SHD,1), Game(SFS,SHD,0), \n",
    "    Game(LDN,PHI,1), Game(LDN,PHI,1), Game(LDN,PHI,1), Game(LDN,PHI,1), \n",
    "    Game(NYE,HOU,1), Game(NYE,HOU,1), Game(NYE,HOU,1), Game(NYE,HOU,0), \n",
    "    Game(SEO,GLA,1), Game(SEO,GLA,1), Game(SEO,GLA,1), Game(SEO,GLA,1), \n",
    "]\n",
    "for player in players:\n",
    "    player.estimate_variance(games)\n",
    "    player.estimate_Delta(games)\n",
    "    player.compute_volatility()\n",
    "\n",
    "for player in players:\n",
    "    print('{0}: {1:.3f}±{2:.3f}'.format(player.name,player.mu,2*player.phi))"
   ]
  },
  {
   "cell_type": "code",
   "execution_count": 5,
   "metadata": {},
   "outputs": [
    {
     "name": "stdout",
     "output_type": "stream",
     "text": [
      "SFS v PHI: 0.758, 2.4-1.6\n",
      "FLA v SEO: -3.424, 0.3-3.7\n",
      "HOU v SHD: 1.224, 2.6-1.4\n"
     ]
    }
   ],
   "source": [
    "x=8*(E_p(SFS,PHI)-0.5)\n",
    "print('SFS v PHI: {:.3f}, {:.1f}-{:.1f}'.format(x,2+x/2,2-x/2))\n",
    "x=8*(E_p(FLA,SEO)-0.5)\n",
    "print('FLA v SEO: {:.3f}, {:.1f}-{:.1f}'.format(x,2+x/2,2-x/2))\n",
    "x=8*(E_p(HOU,SHD)-0.5)\n",
    "print('HOU v SHD: {:.3f}, {:.1f}-{:.1f}'.format(x,2+x/2,2-x/2))"
   ]
  },
  {
   "cell_type": "code",
   "execution_count": 6,
   "metadata": {},
   "outputs": [
    {
     "name": "stdout",
     "output_type": "stream",
     "text": [
      "BOS: -0.120±1.400\n",
      "FLA: -1.848±2.028\n",
      "HOU: 0.709±1.280\n",
      "LDN: 1.177±1.765\n",
      "NYE: 1.574±1.526\n",
      "PHI: -0.261±1.236\n",
      "DAL: -0.760±1.475\n",
      "GLA: 0.166±1.357\n",
      "VAL: 1.154±1.463\n",
      "SFS: -0.532±1.386\n",
      "SEO: 1.462±1.673\n",
      "SHD: -1.802±1.608\n"
     ]
    }
   ],
   "source": [
    "games = [\n",
    "    Game(SFS,PHI,1), Game(SFS,PHI,0), Game(SFS,PHI,0), Game(SFS,PHI,0.5), \n",
    "    Game(SEO,FLA,1), Game(SEO,FLA,1), Game(SEO,FLA,1), Game(SEO,FLA,1), \n",
    "    Game(HOU,SHD,1), Game(HOU,SHD,1), Game(HOU,SHD,1), Game(HOU,SHD,1), \n",
    "    Game(DAL,HOU,0), Game(DAL,HOU,0), Game(DAL,HOU,0), Game(DAL,HOU,0), \n",
    "    Game(NYE,VAL,1), Game(NYE,VAL,1), Game(NYE,VAL,1), Game(NYE,VAL,0), \n",
    "    Game(PHI,GLA,1), Game(PHI,GLA,1), Game(PHI,GLA,0), Game(PHI,GLA,0), Game(PHI,GLA,0), \n",
    "]\n",
    "for player in players:\n",
    "    player.estimate_variance(games)\n",
    "    player.estimate_Delta(games)\n",
    "    player.compute_volatility()\n",
    "\n",
    "for player in players:\n",
    "    print('{0}: {1:.3f}±{2:.3f}'.format(player.name,player.mu,2*player.phi))"
   ]
  },
  {
   "cell_type": "code",
   "execution_count": 11,
   "metadata": {},
   "outputs": [
    {
     "name": "stdout",
     "output_type": "stream",
     "text": [
      "NYE|1773±265\n",
      "SEO|1754±291\n",
      "LDN|1704±307\n",
      "VAL|1700±254\n",
      "HOU|1623±222\n",
      "GLA|1529±236\n",
      "BOS|1479±243\n",
      "PHI|1455±215\n",
      "SFS|1408±241\n",
      "DAL|1368±256\n",
      "SHD|1187±279\n",
      "FLA|1179±352\n"
     ]
    }
   ],
   "source": [
    "ratings={}\n",
    "for player in players:\n",
    "    ratings[player.name] = (player.mu*173.7178+1500,2*player.phi*173.7178)\n",
    "\n",
    "iter_keys = list(ratings.keys())\n",
    "while len(iter_keys)>0:\n",
    "    max = 0\n",
    "    for key in iter_keys:\n",
    "        if ratings[key][0]>max:\n",
    "            max=ratings[key][0]\n",
    "            max_key = key\n",
    "    iter_keys.remove(max_key)\n",
    "    print('{0}|{1[0]:.0f}±{1[1]:.0f}'.format(max_key,ratings[max_key]))"
   ]
  },
  {
   "cell_type": "code",
   "execution_count": 12,
   "metadata": {},
   "outputs": [
    {
     "name": "stdout",
     "output_type": "stream",
     "text": [
      "SEO v BOS|2.361, 3.2-0.8\n",
      "SHD v FLA|0.076, 2.0-2.0\n",
      "LDN v DAL|2.696, 3.3-0.7\n"
     ]
    }
   ],
   "source": [
    "x=8*(E_p(SEO,BOS)-0.5)\n",
    "print('SEO v BOS|{:.3f}, {:.1f}-{:.1f}'.format(x,2+x/2,2-x/2))\n",
    "x=8*(E_p(SHD,FLA)-0.5)\n",
    "print('SHD v FLA|{:.3f}, {:.1f}-{:.1f}'.format(x,2+x/2,2-x/2))\n",
    "x=8*(E_p(LDN,DAL)-0.5)\n",
    "print('LDN v DAL|{:.3f}, {:.1f}-{:.1f}'.format(x,2+x/2,2-x/2))"
   ]
  },
  {
   "cell_type": "code",
   "execution_count": null,
   "metadata": {
    "collapsed": true
   },
   "outputs": [],
   "source": []
  }
 ],
 "metadata": {
  "kernelspec": {
   "display_name": "Python [Root]",
   "language": "python",
   "name": "Python [Root]"
  },
  "language_info": {
   "codemirror_mode": {
    "name": "ipython",
    "version": 3
   },
   "file_extension": ".py",
   "mimetype": "text/x-python",
   "name": "python",
   "nbconvert_exporter": "python",
   "pygments_lexer": "ipython3",
   "version": "3.5.3"
  }
 },
 "nbformat": 4,
 "nbformat_minor": 2
}
