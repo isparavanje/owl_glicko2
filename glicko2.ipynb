{
 "cells": [
  {
   "cell_type": "code",
   "execution_count": 1,
   "metadata": {
    "collapsed": true
   },
   "outputs": [],
   "source": [
    "import numpy as np\n",
    "\n",
    "def g(player):\n",
    "    phi = player.phi\n",
    "    return 1/(np.sqrt(1+3*(phi/(np.pi))**2))\n",
    "\n",
    "def E(player1,player2):\n",
    "    mu = player1.mu\n",
    "    mu2 = player2.mu\n",
    "    return 1/(1+np.exp(g(player2)*(mu2-mu)))\n",
    "\n",
    "class Player:\n",
    "    tau = 1/np.sqrt(2) #this is a constant that can be fine-tuned.\n",
    "    def __init__(self, name, mu=0, phi=2, rho=0.06):\n",
    "        self.name = name\n",
    "        self.mu = mu\n",
    "        self.phi = phi\n",
    "        self.rho = rho\n",
    "    def __eq__(self, other):\n",
    "        if isinstance(other, self.__class__):\n",
    "            return self.name == other.name\n",
    "        else:\n",
    "            return False\n",
    "\n",
    "    def estimate_variance(self, games):\n",
    "        v_sum = 0\n",
    "        for game in games:\n",
    "            if self == game.player1:\n",
    "                E_iter = E(self,game.player2)\n",
    "                v_sum = v_sum + (g(game.player2))**2*(E_iter-E_iter**2)\n",
    "            if self == game.player2:\n",
    "                E_iter = E(self,game.player1)\n",
    "                v_sum = v_sum + (g(game.player1))**2*(E_iter-E_iter**2)\n",
    "        self.est_variance = 1/v_sum\n",
    "\n",
    "    def estimate_Delta(self, games):\n",
    "        d_sum = 0\n",
    "        for game in games:\n",
    "            if self == game.player1:\n",
    "                d_sum = d_sum + g(game.player2)*(game.score-E(self,game.player2))\n",
    "            if self == game.player2:\n",
    "                d_sum = d_sum + g(game.player1)*(1-game.score-E(self,game.player1))\n",
    "        self.est_Delta = self.est_variance*d_sum\n",
    "    \n",
    "    def _f(self,x):\n",
    "        ex = np.exp(x)\n",
    "        a = np.log(self.phi**2)\n",
    "        return (ex*(self.est_Delta**2-self.phi**2-self.est_variance-ex)/(2*(self.phi**2+self.est_variance+ex)**2)\n",
    "                - (x - a)/self.tau**2)\n",
    "    \n",
    "    def compute_volatility(self):\n",
    "        #basically the Illinois algorithm lifted from the glicko2 pdf. Illini!\n",
    "        a = np.log(self.phi**2)\n",
    "        A = a\n",
    "        if self.est_Delta**2>(self.phi**2+self.est_variance):\n",
    "            B = np.log(self.est_Delta**2-self.phi**2-self.est_variance)\n",
    "        else:\n",
    "            k = 1\n",
    "            while(self._f(a-k*self.tau)<0):\n",
    "                k = k+1\n",
    "            B = a-k*self.tau\n",
    "        fA = self._f(A)\n",
    "        fB = self._f(B)\n",
    "        while(abs(B-A)>1e-6):\n",
    "            C = A + (A-B)*fA/(fB-fA)\n",
    "            fC = self._f(C)\n",
    "            if fC*fB<0:\n",
    "                A = B\n",
    "                fA = fB\n",
    "            else:\n",
    "                fA = fA/2    \n",
    "            B = C\n",
    "            fB = fC\n",
    "        self.rho = np.exp(A/2)\n",
    "        phi_d = np.sqrt(self.phi**2+self.rho**2)\n",
    "        self.phi = 1/np.sqrt(1/phi_d**2+1/self.est_variance)\n",
    "        self.mu = self.mu + self.phi**2/self.est_variance*self.est_Delta\n",
    "\n",
    "class Game:\n",
    "    def __init__(self, player1, player2, score):\n",
    "        '''score=1 means player1 wins, score=0 means player2 wins, score=0.5 means draw'''\n",
    "        self.player1 = player1\n",
    "        self.player2 = player2\n",
    "        self.score = score\n",
    "\n",
    "        "
   ]
  },
  {
   "cell_type": "code",
   "execution_count": 2,
   "metadata": {},
   "outputs": [],
   "source": [
    "BOS = Player('BOS')\n",
    "FLA = Player('FLA')\n",
    "HOU = Player('HOU')\n",
    "LDN = Player('LDN')\n",
    "NYE = Player('NYE')\n",
    "PHI = Player('PHI')\n",
    "DAL = Player('DAL')\n",
    "GLA = Player('GLA')\n",
    "VAL = Player('VAL')\n",
    "SFS = Player('SFS')\n",
    "SEO = Player('SEO')\n",
    "SHD = Player('SHD')\n",
    "games = [\n",
    "    Game(SFS,VAL,0), Game(SFS,VAL,0), Game(SFS,VAL,0), Game(SFS,VAL,0), \n",
    "    Game(SHD,GLA,0), Game(SHD,GLA,0), Game(SHD,GLA,0), Game(SHD,GLA,0), \n",
    "    Game(DAL,SEO,1), Game(DAL,SEO,0), Game(DAL,SEO,0), Game(DAL,SEO,0.5), \n",
    "    Game(LDN,FLA,0), Game(LDN,FLA,1), Game(LDN,FLA,1), Game(LDN,FLA,1), \n",
    "    Game(PHI,HOU,1), Game(PHI,HOU,0), Game(PHI,HOU,1), Game(PHI,HOU,0), Game(PHI,HOU,1), \n",
    "    Game(BOS,NYE,0), Game(BOS,NYE,1), Game(BOS,NYE,0), Game(BOS,NYE,0), \n",
    "    Game(VAL,DAL,1), Game(VAL,DAL,1), Game(VAL,DAL,1), Game(VAL,DAL,0.5), \n",
    "    Game(FLA,BOS,0), Game(FLA,BOS,0), Game(FLA,BOS,0), Game(FLA,BOS,0), \n",
    "    Game(SFS,SHD,1), Game(SFS,SHD,1), Game(SFS,SHD,1), Game(SFS,SHD,0), \n",
    "    Game(LDN,PHI,1), Game(LDN,PHI,1), Game(LDN,PHI,1), Game(LDN,PHI,1), \n",
    "    Game(NYE,HOU,1), Game(NYE,HOU,1), Game(NYE,HOU,1), Game(NYE,HOU,0), \n",
    "    Game(SEO,GLA,1), Game(SEO,GLA,1), Game(SEO,GLA,1), Game(SEO,GLA,1), \n",
    "]\n",
    "players = [BOS, FLA, HOU, LDN, NYE, PHI, DAL, GLA, VAL, SFS, SEO, SHD]"
   ]
  },
  {
   "cell_type": "code",
   "execution_count": 3,
   "metadata": {},
   "outputs": [
    {
     "name": "stdout",
     "output_type": "stream",
     "text": [
      "BOS: 0.6499074053584527±1.9671661101873676\n",
      "FLA: -1.5001163356737428±1.758280405416066\n",
      "HOU: -0.8791062776127051±1.868057982953958\n",
      "LDN: 1.0660724734659788±1.8971634986663597\n",
      "NYE: 1.0464797183403194±1.6196987428445264\n",
      "PHI: -0.8509203850644641±1.5735262926889682\n",
      "DAL: -1.3012830479991642±1.9682768266648336\n",
      "GLA: -1.0736673394958162e-16±1.9667979723547062\n",
      "VAL: 1.5289127539159433±1.867472991086238\n",
      "SFS: -0.05009400201455155±1.9096112327235935\n",
      "SEO: 0.8770079409843778±1.6495084286525703\n",
      "SHD: -1.5919337555188±1.540770740048951\n"
     ]
    }
   ],
   "source": [
    "for player in players:\n",
    "    player.estimate_variance(games)\n",
    "    player.estimate_Delta(games)\n",
    "    player.compute_volatility()\n",
    "\n",
    "for player in players:\n",
    "    print('{0}: {1}±{2}'.format(player.name,player.mu,2*player.phi))"
   ]
  },
  {
   "cell_type": "code",
   "execution_count": 4,
   "metadata": {},
   "outputs": [
    {
     "name": "stdout",
     "output_type": "stream",
     "text": [
      "BOS: 1612.9004846625787±341.73176889630713\n",
      "FLA: 1239.4030904226959±305.44460381198707\n",
      "HOU: 1347.2835914869315±324.5149230711991\n",
      "LDN: 1685.1957647310683±329.57106922862295\n",
      "NYE: 1681.7921544147±281.3705022697169\n",
      "PHI: 1352.1799827314485±273.3495258080836\n",
      "DAL: 1273.9439717242908±341.92472011919625\n",
      "GLA: 1500.0±341.6678168019204\n",
      "VAL: 1765.599360002219±324.4132995709209\n",
      "SFS: 1491.2977801768366±331.7334622040307\n",
      "SEO: 1652.351890090336±286.5489753069815\n",
      "SHD: 1223.4527702455362±267.65930326567565\n"
     ]
    }
   ],
   "source": [
    "for player in players:\n",
    "    print('{0}: {1}±{2}'.format(player.name,player.mu*173.7178+1500,2*player.phi*173.7178))"
   ]
  },
  {
   "cell_type": "code",
   "execution_count": 5,
   "metadata": {},
   "outputs": [
    {
     "name": "stdout",
     "output_type": "stream",
     "text": [
      "SFS v PHI: 1.4066635534171894\n",
      "FLA v SEO: -3.1756987936816437\n",
      "HOU v SHD: 1.2670693402868913\n"
     ]
    }
   ],
   "source": [
    "print('SFS v PHI: {}'.format(8*(E(SFS,PHI)-0.5)))\n",
    "print('FLA v SEO: {}'.format(8*(E(FLA,SEO)-0.5)))\n",
    "print('HOU v SHD: {}'.format(8*(E(HOU,SHD)-0.5)))"
   ]
  },
  {
   "cell_type": "code",
   "execution_count": null,
   "metadata": {
    "collapsed": true
   },
   "outputs": [],
   "source": []
  }
 ],
 "metadata": {
  "kernelspec": {
   "display_name": "Python [Root]",
   "language": "python",
   "name": "Python [Root]"
  },
  "language_info": {
   "codemirror_mode": {
    "name": "ipython",
    "version": 3
   },
   "file_extension": ".py",
   "mimetype": "text/x-python",
   "name": "python",
   "nbconvert_exporter": "python",
   "pygments_lexer": "ipython3",
   "version": "3.5.3"
  }
 },
 "nbformat": 4,
 "nbformat_minor": 2
}
